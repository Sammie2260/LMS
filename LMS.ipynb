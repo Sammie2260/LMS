{
 "cells": [
  {
   "cell_type": "code",
   "execution_count": 11,
   "metadata": {},
   "outputs": [
    {
     "data": {
      "text/plain": [
       "'The books are stored in a .txt file.'"
      ]
     },
     "execution_count": 11,
     "metadata": {},
     "output_type": "execute_result"
    }
   ],
   "source": [
    "# I have made a simple LMS. Only features to add new books, remove books and view books; all by their titles are included.\n",
    "# No functionality for issue and return are included.\n",
    "# The books are stored in a .txt file."
   ]
  },
  {
   "cell_type": "code",
   "execution_count": null,
   "metadata": {},
   "outputs": [],
   "source": [
    "class Book:\n",
    "    def __init__(self, title):\n",
    "        self.title = title\n"
   ]
  },
  {
   "cell_type": "code",
   "execution_count": null,
   "metadata": {},
   "outputs": [],
   "source": [
    "\n",
    "class Library:\n",
    "    def __init__(self, filename='library.txt'):\n",
    "        self.filename = filename\n",
    "        self.books = []\n",
    "        self.load_books()\n",
    "\n",
    "    def add_book(self, book):\n",
    "        self.books.append(book)\n",
    "        self.save_books()\n",
    "\n",
    "    def remove_book(self, title):\n",
    "        self.books = [book for book in self.books if book.title != title]\n",
    "        self.save_books()\n",
    "\n",
    "    def find_book(self, title):\n",
    "        for book in self.books:\n",
    "            if book.title == title:\n",
    "                return book\n",
    "        return None\n",
    "\n",
    "    def load_books(self):\n",
    "        try:\n",
    "            with open(self.filename, 'r') as file:\n",
    "                self.books = [Book(line.strip()) for line in file.readlines()]\n",
    "        except FileNotFoundError:\n",
    "            self.books = []\n",
    "\n",
    "    def save_books(self):\n",
    "        with open(self.filename, 'w') as file:\n",
    "            for book in self.books:\n",
    "                file.write(book.title + '\\n')\n",
    "\n",
    "    def display_books(self):\n",
    "        if not self.books:\n",
    "            print(\"No books in the library.\")\n",
    "        else:\n",
    "            for book in self.books:\n",
    "                print(f\"{book.title}\")\n",
    "\n"
   ]
  },
  {
   "cell_type": "code",
   "execution_count": null,
   "metadata": {},
   "outputs": [],
   "source": [
    "\n",
    "if __name__ == \"__main__\":\n",
    "    library = Library()\n",
    "\n",
    "    # # Add books\n",
    "    # book1 = Book(\"The Great Gatsby\")\n",
    "    # library.add_book(book1)\n",
    "    # library.add_book(Book(\"Norwegian Woods\"))\n",
    "    \n",
    "\n",
    "    # Display books\n",
    "    print(\"Books in the library:\")\n",
    "    library.display_books()\n",
    "\n",
    "    # Find a book\n",
    "    title_to_find = \"The Great Gatsby\"\n",
    "    book = library.find_book(title_to_find)\n",
    "    if book:\n",
    "        print(f\"\\nBook found: {book.title}\")\n",
    "    else:\n",
    "        print(\"\\nBook not found.\")\n",
    "\n",
    "    # # Remove a book\n",
    "    # title_to_remove = \"The Great Gatsby\"\n",
    "    # library.remove_book(title_to_remove)\n",
    "    # print(\"\\nBooks after removal:\")\n",
    "    # library.display_books()\n"
   ]
  }
 ],
 "metadata": {
  "kernelspec": {
   "display_name": "Python 3",
   "language": "python",
   "name": "python3"
  },
  "language_info": {
   "codemirror_mode": {
    "name": "ipython",
    "version": 3
   },
   "file_extension": ".py",
   "mimetype": "text/x-python",
   "name": "python",
   "nbconvert_exporter": "python",
   "pygments_lexer": "ipython3",
   "version": "3.12.3"
  }
 },
 "nbformat": 4,
 "nbformat_minor": 2
}
